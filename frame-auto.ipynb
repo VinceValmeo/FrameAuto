{
 "cells": [
  {
   "cell_type": "code",
   "execution_count": null,
   "id": "ba9c4950",
   "metadata": {},
   "outputs": [],
   "source": [
    "pip install pandas openpyxl pillow numpy"
   ]
  },
  {
   "cell_type": "code",
   "execution_count": null,
   "id": "025f686e",
   "metadata": {},
   "outputs": [],
   "source": [
    "import pandas as pd\n",
    "import openpyxl\n",
    "from PIL import Image\n",
    "from PIL import Image, ImageDraw, ImageChops, ImageFont\n",
    "import os"
   ]
  },
  {
   "cell_type": "code",
   "execution_count": null,
   "id": "64b0a698",
   "metadata": {},
   "outputs": [],
   "source": [
    "category = \"2025\"\n",
    "\n",
    "df = pd.read_excel(\"data/Proto-2_Frame_Auto.xlsx\", sheet_name=category)\n",
    "df.head()\n"
   ]
  },
  {
   "cell_type": "markdown",
   "id": "3aceb5f0",
   "metadata": {},
   "source": [
    "### Filter Values Birthday"
   ]
  },
  {
   "cell_type": "code",
   "execution_count": null,
   "id": "e99521f2",
   "metadata": {},
   "outputs": [],
   "source": [
    "# change value of this variable\n",
    "bday_month = \"May\"\n",
    "category = \"birthday\"\n",
    "\n",
    "bday = df[(df[category] == bday_month)]\n",
    "\n",
    "cleaned_bday = bday[[\"short_name\", \"k-id\"]]\n",
    "cleaned_bday"
   ]
  },
  {
   "cell_type": "code",
   "execution_count": null,
   "id": "dae4dbcf",
   "metadata": {},
   "outputs": [],
   "source": [
    "test = cleaned_bday.to_dict(orient='split', index=False)\n",
    "bday = test['data']\n",
    "bday"
   ]
  },
  {
   "cell_type": "markdown",
   "id": "fc01d661",
   "metadata": {},
   "source": [
    "### Creating groups (to modify)"
   ]
  },
  {
   "cell_type": "code",
   "execution_count": null,
   "id": "2f3d8455",
   "metadata": {},
   "outputs": [],
   "source": [
    "data = bday\n",
    "groups = [] \n",
    "while data:\n",
    "    n = len(data)\n",
    "    for size in range(8, 0, -1):\n",
    "        if n % size == 0 or n >= size:\n",
    "            groups.append(data[:size])\n",
    "            data = data[size:]\n",
    "            break\n",
    "\n",
    "for i, group in enumerate(groups, 1):\n",
    "    print(f\"Group {i} ({len(group)} members):\", group)"
   ]
  },
  {
   "cell_type": "markdown",
   "id": "20c23afc",
   "metadata": {},
   "source": [
    "### Image Coordinates"
   ]
  },
  {
   "cell_type": "code",
   "execution_count": null,
   "id": "52d94720",
   "metadata": {},
   "outputs": [],
   "source": [
    "single_y = 418\n",
    "top_y = 328\n",
    "bottom_y = 732\n",
    "\n",
    "coord_arr_8 = [(51, top_y),(500, top_y),(948, top_y),(1396, top_y),\n",
    "               (266, bottom_y),(714, bottom_y),(1163, bottom_y),(1611, bottom_y)]\n",
    "coord_arr_7 = [(91, top_y),(589, top_y),(1087, top_y),(1585, top_y),\n",
    "               (308, bottom_y),(838, bottom_y),(1367, bottom_y)]\n",
    "coord_arr_6 = [(203, top_y),(733, top_y),(1262, top_y),\n",
    "               (454, bottom_y),(983, bottom_y),(1513, bottom_y)]\n",
    "coord_arr_5 = [(203, top_y), (838, top_y), (1472, top_y), \n",
    "               (518, bottom_y), (1158, bottom_y)]\n",
    "coord_arr_4 = [(172, single_y),(616, single_y),(1060, single_y),(1504, single_y)]\n",
    "coord_arr_3 = [(268, single_y),(838, single_y),(1408, single_y)]\n",
    "coord_arr_2 = [(565, single_y),(1111, single_y)]\n",
    "coord_arr_1 = [(838, single_y)]"
   ]
  },
  {
   "cell_type": "markdown",
   "id": "8bd3e4cc",
   "metadata": {},
   "source": [
    "## Notes"
   ]
  },
  {
   "cell_type": "markdown",
   "id": "89d94137",
   "metadata": {},
   "source": [
    "TODO: \n",
    "- calculate image and text offset to make the anchor point be the middle\n",
    "- read the name and image path from the excel file \n",
    "- use the appropriate canvas when of number of people "
   ]
  },
  {
   "cell_type": "markdown",
   "id": "795449b7",
   "metadata": {},
   "source": [
    "TODO: \n",
    "- Make this into a video, save it and get the duration \n",
    "- Set this duration in the software upload and observe how it will play"
   ]
  },
  {
   "cell_type": "markdown",
   "id": "9b2d91d2",
   "metadata": {},
   "source": [
    "TODO:\n",
    "- create folder for image and file in the downloads folder for easy access \n",
    "- detect if the file is an image or excel file \n",
    "- move them in their respective folders inside the project "
   ]
  },
  {
   "cell_type": "markdown",
   "id": "fed32ccd",
   "metadata": {},
   "source": [
    "# Main Process"
   ]
  },
  {
   "cell_type": "code",
   "execution_count": null,
   "id": "c0ba764c",
   "metadata": {},
   "outputs": [],
   "source": [
    "from PIL import Image, ImageDraw, ImageFont\n",
    "import os\n",
    "\n",
    "# Coordinate mapping\n",
    "coord_map = {\n",
    "    8: coord_arr_8,\n",
    "    7: coord_arr_7,\n",
    "    6: coord_arr_6,\n",
    "    5: coord_arr_5,\n",
    "    4: coord_arr_4,\n",
    "    3: coord_arr_3,\n",
    "    2: coord_arr_2,\n",
    "    1: coord_arr_1,\n",
    "}\n",
    "\n",
    "# Background mapping\n",
    "background_map = {\n",
    "    8: \"backgrounds/bg-8.png\",\n",
    "    7: \"backgrounds/bg-7.png\",\n",
    "    6: \"backgrounds/bg-6.png\",\n",
    "    5: \"backgrounds/bg-5.png\",\n",
    "    4: \"backgrounds/bg-4.png\",\n",
    "    3: \"backgrounds/bg-3.png\",\n",
    "    2: \"backgrounds/bg-2.png\",\n",
    "    1: \"backgrounds/bg-1.png\",\n",
    "}\n",
    "\n",
    "# Make an image circular with transparency\n",
    "def make_circular(image_path):\n",
    "    img = Image.open(image_path).convert(\"RGBA\")\n",
    "    width, height = img.size\n",
    "\n",
    "    mask = Image.new(\"L\", (width, height), 0)\n",
    "    draw = ImageDraw.Draw(mask)\n",
    "    draw.ellipse((0, 0, width, height), fill=255)\n",
    "    img.putalpha(mask)\n",
    "    return img\n",
    "\n",
    "# Create the final composite image\n",
    "def create_image(names, coords, usernames, department, category, counter, background_path):\n",
    "    canvas = Image.open(background_path).convert(\"RGBA\")\n",
    "    draw = ImageDraw.Draw(canvas)\n",
    "    font = ImageFont.truetype(\"DejaVuSansMono.ttf\", size=25)\n",
    "\n",
    "    for (x, y), username, name in zip(coords, usernames, names):\n",
    "        image_path = f\"images/{username}.jpg\"\n",
    "        try:\n",
    "            circular_image = make_circular(image_path)\n",
    "        except FileNotFoundError:\n",
    "            circular_image = make_circular(\"images/person-holder.jpg\")\n",
    "\n",
    "        resized_image = circular_image.resize((245, 245), Image.LANCZOS)\n",
    "        canvas.paste(resized_image, (x, y), resized_image)\n",
    "\n",
    "        text_position = (x + 120, y + 300)\n",
    "        draw.text(text_position, name, fill=(0, 0, 0), font=font, anchor=\"mm\")\n",
    "\n",
    "    output_name = f\"[{department}]-{category}-{counter}.jpeg\"\n",
    "    os.makedirs(\"output\", exist_ok=True)\n",
    "    canvas.convert(\"RGB\").save(os.path.join(\"output\", output_name), \"JPEG\")\n",
    "\n",
    "# Inputs\n",
    "department = \"IT\"\n",
    "category = \"Birthday\"\n",
    "counter = 0\n",
    "\n",
    "# Example group list (replace with real input)\n",
    "\n",
    "# Main loop\n",
    "for group in groups:\n",
    "    group_size = len(group)\n",
    "    coords = coord_map.get(group_size)\n",
    "    background_path = background_map.get(group_size)\n",
    "    if coords and background_path:\n",
    "        usernames = [person[1].replace(\".\", \"-\") for person in group]\n",
    "        names = [person[0] for person in group]\n",
    "        create_image(names, coords, usernames, department, category, counter, background_path)\n",
    "        counter += 1\n",
    "    else:\n",
    "        print(f\"No coordinate layout or background found for group size {group_size}\")\n"
   ]
  },
  {
   "cell_type": "markdown",
   "id": "e911516b",
   "metadata": {},
   "source": [
    "TODO:\n",
    "- This only caters to the one category which is bday.\n",
    "- Create the other category as well"
   ]
  },
  {
   "cell_type": "markdown",
   "id": "29f2d10f",
   "metadata": {},
   "source": []
  }
 ],
 "metadata": {
  "kernelspec": {
   "display_name": ".venv",
   "language": "python",
   "name": "python3"
  },
  "language_info": {
   "codemirror_mode": {
    "name": "ipython",
    "version": 3
   },
   "file_extension": ".py",
   "mimetype": "text/x-python",
   "name": "python",
   "nbconvert_exporter": "python",
   "pygments_lexer": "ipython3",
   "version": "3.10.12"
  }
 },
 "nbformat": 4,
 "nbformat_minor": 5
}
