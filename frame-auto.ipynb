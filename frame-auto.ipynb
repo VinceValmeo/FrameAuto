{
 "cells": [
  {
   "cell_type": "code",
   "execution_count": 97,
   "id": "ba9c4950",
   "metadata": {},
   "outputs": [
    {
     "name": "stdout",
     "output_type": "stream",
     "text": [
      "Requirement already satisfied: pandas in ./.venv/lib/python3.10/site-packages (2.2.3)\n",
      "Requirement already satisfied: openpyxl in ./.venv/lib/python3.10/site-packages (3.1.5)\n",
      "Requirement already satisfied: pillow in ./.venv/lib/python3.10/site-packages (11.2.1)\n",
      "Requirement already satisfied: numpy in ./.venv/lib/python3.10/site-packages (2.2.5)\n",
      "Requirement already satisfied: python-dateutil>=2.8.2 in ./.venv/lib/python3.10/site-packages (from pandas) (2.9.0.post0)\n",
      "Requirement already satisfied: pytz>=2020.1 in ./.venv/lib/python3.10/site-packages (from pandas) (2025.2)\n",
      "Requirement already satisfied: tzdata>=2022.7 in ./.venv/lib/python3.10/site-packages (from pandas) (2025.2)\n",
      "Requirement already satisfied: et-xmlfile in ./.venv/lib/python3.10/site-packages (from openpyxl) (2.0.0)\n",
      "Requirement already satisfied: six>=1.5 in ./.venv/lib/python3.10/site-packages (from python-dateutil>=2.8.2->pandas) (1.17.0)\n",
      "Note: you may need to restart the kernel to use updated packages.\n"
     ]
    }
   ],
   "source": [
    "pip install pandas openpyxl pillow numpy"
   ]
  },
  {
   "cell_type": "code",
   "execution_count": 3,
   "id": "025f686e",
   "metadata": {},
   "outputs": [],
   "source": [
    "import pandas as pd\n",
    "import openpyxl\n",
    "from PIL import Image\n",
    "from PIL import Image, ImageDraw, ImageChops, ImageFont\n",
    "import os"
   ]
  },
  {
   "cell_type": "code",
   "execution_count": 65,
   "id": "64b0a698",
   "metadata": {},
   "outputs": [
    {
     "data": {
      "text/html": [
       "<div>\n",
       "<style scoped>\n",
       "    .dataframe tbody tr th:only-of-type {\n",
       "        vertical-align: middle;\n",
       "    }\n",
       "\n",
       "    .dataframe tbody tr th {\n",
       "        vertical-align: top;\n",
       "    }\n",
       "\n",
       "    .dataframe thead th {\n",
       "        text-align: right;\n",
       "    }\n",
       "</style>\n",
       "<table border=\"1\" class=\"dataframe\">\n",
       "  <thead>\n",
       "    <tr style=\"text-align: right;\">\n",
       "      <th></th>\n",
       "      <th>jan_fullname</th>\n",
       "      <th>jan_shortname</th>\n",
       "      <th>jan_id_file</th>\n",
       "    </tr>\n",
       "  </thead>\n",
       "  <tbody>\n",
       "    <tr>\n",
       "      <th>0</th>\n",
       "      <td>Mathew Sullivan</td>\n",
       "      <td>Mat Sullivan</td>\n",
       "      <td>m.sullivan</td>\n",
       "    </tr>\n",
       "    <tr>\n",
       "      <th>1</th>\n",
       "      <td>Carter Guerrero</td>\n",
       "      <td>Cart Guerrero</td>\n",
       "      <td>c.guerrero</td>\n",
       "    </tr>\n",
       "    <tr>\n",
       "      <th>2</th>\n",
       "      <td>Marley Dale</td>\n",
       "      <td>Marl Dale</td>\n",
       "      <td>m.dale</td>\n",
       "    </tr>\n",
       "    <tr>\n",
       "      <th>3</th>\n",
       "      <td>Harold Griffith</td>\n",
       "      <td>Harry Griffith</td>\n",
       "      <td>h.griffith</td>\n",
       "    </tr>\n",
       "    <tr>\n",
       "      <th>4</th>\n",
       "      <td>Alysha Davidson</td>\n",
       "      <td>Aly Davidson</td>\n",
       "      <td>a.davidson</td>\n",
       "    </tr>\n",
       "  </tbody>\n",
       "</table>\n",
       "</div>"
      ],
      "text/plain": [
       "      jan_fullname   jan_shortname jan_id_file\n",
       "0  Mathew Sullivan    Mat Sullivan  m.sullivan\n",
       "1  Carter Guerrero   Cart Guerrero  c.guerrero\n",
       "2      Marley Dale       Marl Dale      m.dale\n",
       "3  Harold Griffith  Harry Griffith  h.griffith\n",
       "4  Alysha Davidson    Aly Davidson  a.davidson"
      ]
     },
     "execution_count": 65,
     "metadata": {},
     "output_type": "execute_result"
    }
   ],
   "source": [
    "category = \"Birthdays\"\n",
    "department = \"ABC\"\n",
    "\n",
    "df = pd.read_excel(\"data/Format Frame Auto.xlsx\", sheet_name=category)\n",
    "df"
   ]
  },
  {
   "cell_type": "code",
   "execution_count": 39,
   "id": "675c191f",
   "metadata": {},
   "outputs": [],
   "source": [
    "feb_names = df.jan_shortname"
   ]
  },
  {
   "cell_type": "code",
   "execution_count": null,
   "id": "df3aa550",
   "metadata": {},
   "outputs": [],
   "source": [
    "def make_circular(image_path):\n",
    "    img = Image.open(image_path).convert(\"RGBA\")\n",
    "    width, height = img.size\n",
    "    \n",
    "    mask = Image.new('L', (width, height), 0)\n",
    "    draw = ImageDraw.Draw(mask)\n",
    "    draw.ellipse((0, 0, width, height), fill=255)\n",
    "    \n",
    "    img.putalpha(mask)\n",
    "    return img\n",
    "\n",
    "coord_arr_5 = [[204, 315], [839, 315], [1474, 315], [536, 681], [1165,682]]\n",
    "\n",
    "# Load background\n",
    "canvas = Image.open(\"backgrounds/bg1.png\").convert(\"RGBA\")\n",
    "\n",
    "# Process person image\n",
    "circular_image = make_circular(\"images/person-holder.jpg\")\n",
    "resize_image = 240\n",
    "resized_image = circular_image.resize((resize_image, resize_image), Image.LANCZOS)\n",
    "\n",
    "\n",
    "# Main process of \n",
    "counter = 0\n",
    "while counter < len(coord_arr_5):   \n",
    "    x = coord_arr_5[counter][0]\n",
    "    y = coord_arr_5[counter][1]\n",
    "    canvas.paste(resized_image, (x , y), resized_image)\n",
    "\n",
    "\n",
    "    draw = ImageDraw.Draw(canvas)\n",
    "\n",
    "    # Font \n",
    "    font = ImageFont.truetype(\"DejaVuSansMono.ttf\", size=25)\n",
    "\n",
    "    # Specify the text and its position\n",
    "    text = feb_names[counter]\n",
    "    y_text_offset = 300\n",
    "    x_text_offset = 120\n",
    "    text_position = (x + x_text_offset, y + y_text_offset)\n",
    "\n",
    "    # Choose text color\n",
    "    text_color = (0, 0, 0)\n",
    "\n",
    "    draw.text(text_position, text, fill=text_color, font=font, anchor=\"mm\")\n",
    "\n",
    "    counter = counter + 1\n",
    "\n",
    "# canvas.save(\"[{department}]-{category}-{counter}\", \"JPEG\")\n",
    "output_name = f\"{department}-{category}-{counter}.jpeg\"\n",
    "\n",
    "# Convert to RGB to save as JPEG\n",
    "canvas = canvas.convert(\"RGB\")\n",
    "\n",
    "# Save to folder\n",
    "os.makedirs(\"output\", exist_ok=True)\n",
    "canvas.save(os.path.join(\"output\", output_name))\n"
   ]
  },
  {
   "cell_type": "markdown",
   "id": "89d94137",
   "metadata": {},
   "source": [
    "TODO: \n",
    "- calculate image and text offset to make the anchor point be the middle\n",
    "- read the name and image path from the excel file \n",
    "- use the appropriate canvas when of number of people "
   ]
  },
  {
   "cell_type": "markdown",
   "id": "7916df3e",
   "metadata": {},
   "source": [
    "TODO: \n",
    "- manipulate the excel file  \n",
    "- combine old data with the past data "
   ]
  },
  {
   "cell_type": "markdown",
   "id": "795449b7",
   "metadata": {},
   "source": [
    "TODO: \n",
    "- Make this into a video, save it and get the duration \n",
    "- Set this duration in the software upload and observe how it will play"
   ]
  },
  {
   "cell_type": "markdown",
   "id": "9b2d91d2",
   "metadata": {},
   "source": [
    "TODO:\n",
    "- create folder for image and file in the downloads folder for easy access \n",
    "- detect if the file is an image or excel file \n",
    "- move them in their respective folders inside the project "
   ]
  },
  {
   "cell_type": "markdown",
   "id": "aa81fc15",
   "metadata": {},
   "source": [
    "### Basic ID generator"
   ]
  },
  {
   "cell_type": "code",
   "execution_count": 96,
   "id": "69d4566d",
   "metadata": {},
   "outputs": [
    {
     "name": "stdout",
     "output_type": "stream",
     "text": [
      "m.hernandez\n",
      " m.melendez\n",
      "   s.suarez\n",
      "    b.wlcox\n",
      "l.jefferson\n",
      "    e.hardy\n",
      "  j.roborts\n",
      "       e.ho\n",
      "     d.dunn\n"
     ]
    }
   ],
   "source": [
    "names = [\n",
    "\"Mir Hernandez\",\n",
    "\"Mett Melendez\",\n",
    "\"Sors Suarez\",\n",
    "\"Bil Wlcox\",\n",
    "\"Lu Jefferson\",\n",
    "\"Emman Hardy\",\n",
    "\"Jac Roborts\",\n",
    "\"Eby Ho\",\n",
    "\"Dev Dunn\"\n",
    "]\n",
    "sep = [name.lower().split() for name in names]\n",
    "first = [item[0][0] for item in sep]\n",
    "\n",
    "sep1 = [name.lower().split() for name in names]\n",
    "last = [item[1] for item in sep1]\n",
    "\n",
    "\n",
    "df = pd.DataFrame({'first_name': first, 'last_name': last, \"id\":f\"{first}.{last}\"})\n",
    "df['combined'] = df['first_name'] + \".\" + df['last_name']\n",
    "print(df['combined'].to_string(index=False))"
   ]
  },
  {
   "cell_type": "markdown",
   "id": "fc01d661",
   "metadata": {},
   "source": [
    "### Creating groups"
   ]
  },
  {
   "cell_type": "code",
   "execution_count": 4,
   "id": "cc40b048",
   "metadata": {},
   "outputs": [],
   "source": [
    "category = \"Birthdays\"\n",
    "department = \"ABC\"\n",
    "\n",
    "df = pd.read_excel(\"data/More Frame Auto.xlsx\", sheet_name=category)"
   ]
  },
  {
   "cell_type": "code",
   "execution_count": null,
   "id": "2ef5aabc",
   "metadata": {},
   "outputs": [
    {
     "ename": "ValueError",
     "evalue": "If using all scalar values, you must pass an index",
     "output_type": "error",
     "traceback": [
      "\u001b[0;31m---------------------------------------------------------------------------\u001b[0m",
      "\u001b[0;31mValueError\u001b[0m                                Traceback (most recent call last)",
      "Cell \u001b[0;32mIn[5], line 3\u001b[0m\n\u001b[1;32m      1\u001b[0m \u001b[38;5;28;01mimport\u001b[39;00m\u001b[38;5;250m \u001b[39m\u001b[38;5;21;01mpandas\u001b[39;00m\u001b[38;5;250m \u001b[39m\u001b[38;5;28;01mas\u001b[39;00m\u001b[38;5;250m \u001b[39m\u001b[38;5;21;01mpd\u001b[39;00m\n\u001b[0;32m----> 3\u001b[0m df \u001b[38;5;241m=\u001b[39m \u001b[43mpd\u001b[49m\u001b[38;5;241;43m.\u001b[39;49m\u001b[43mDataFrame\u001b[49m\u001b[43m(\u001b[49m\u001b[43m{\u001b[49m\u001b[38;5;124;43m'\u001b[39;49m\u001b[38;5;124;43mname\u001b[39;49m\u001b[38;5;124;43m'\u001b[39;49m\u001b[43m:\u001b[49m\u001b[43m \u001b[49m\u001b[43mdf\u001b[49m\u001b[43m}\u001b[49m\u001b[43m)\u001b[49m\n\u001b[1;32m      4\u001b[0m groups \u001b[38;5;241m=\u001b[39m []\n\u001b[1;32m      6\u001b[0m \u001b[38;5;28;01mwhile\u001b[39;00m \u001b[38;5;129;01mnot\u001b[39;00m df\u001b[38;5;241m.\u001b[39mempty:\n",
      "File \u001b[0;32m~/projects/frame-auto/.venv/lib/python3.10/site-packages/pandas/core/frame.py:778\u001b[0m, in \u001b[0;36mDataFrame.__init__\u001b[0;34m(self, data, index, columns, dtype, copy)\u001b[0m\n\u001b[1;32m    772\u001b[0m     mgr \u001b[38;5;241m=\u001b[39m \u001b[38;5;28mself\u001b[39m\u001b[38;5;241m.\u001b[39m_init_mgr(\n\u001b[1;32m    773\u001b[0m         data, axes\u001b[38;5;241m=\u001b[39m{\u001b[38;5;124m\"\u001b[39m\u001b[38;5;124mindex\u001b[39m\u001b[38;5;124m\"\u001b[39m: index, \u001b[38;5;124m\"\u001b[39m\u001b[38;5;124mcolumns\u001b[39m\u001b[38;5;124m\"\u001b[39m: columns}, dtype\u001b[38;5;241m=\u001b[39mdtype, copy\u001b[38;5;241m=\u001b[39mcopy\n\u001b[1;32m    774\u001b[0m     )\n\u001b[1;32m    776\u001b[0m \u001b[38;5;28;01melif\u001b[39;00m \u001b[38;5;28misinstance\u001b[39m(data, \u001b[38;5;28mdict\u001b[39m):\n\u001b[1;32m    777\u001b[0m     \u001b[38;5;66;03m# GH#38939 de facto copy defaults to False only in non-dict cases\u001b[39;00m\n\u001b[0;32m--> 778\u001b[0m     mgr \u001b[38;5;241m=\u001b[39m \u001b[43mdict_to_mgr\u001b[49m\u001b[43m(\u001b[49m\u001b[43mdata\u001b[49m\u001b[43m,\u001b[49m\u001b[43m \u001b[49m\u001b[43mindex\u001b[49m\u001b[43m,\u001b[49m\u001b[43m \u001b[49m\u001b[43mcolumns\u001b[49m\u001b[43m,\u001b[49m\u001b[43m \u001b[49m\u001b[43mdtype\u001b[49m\u001b[38;5;241;43m=\u001b[39;49m\u001b[43mdtype\u001b[49m\u001b[43m,\u001b[49m\u001b[43m \u001b[49m\u001b[43mcopy\u001b[49m\u001b[38;5;241;43m=\u001b[39;49m\u001b[43mcopy\u001b[49m\u001b[43m,\u001b[49m\u001b[43m \u001b[49m\u001b[43mtyp\u001b[49m\u001b[38;5;241;43m=\u001b[39;49m\u001b[43mmanager\u001b[49m\u001b[43m)\u001b[49m\n\u001b[1;32m    779\u001b[0m \u001b[38;5;28;01melif\u001b[39;00m \u001b[38;5;28misinstance\u001b[39m(data, ma\u001b[38;5;241m.\u001b[39mMaskedArray):\n\u001b[1;32m    780\u001b[0m     \u001b[38;5;28;01mfrom\u001b[39;00m\u001b[38;5;250m \u001b[39m\u001b[38;5;21;01mnumpy\u001b[39;00m\u001b[38;5;21;01m.\u001b[39;00m\u001b[38;5;21;01mma\u001b[39;00m\u001b[38;5;250m \u001b[39m\u001b[38;5;28;01mimport\u001b[39;00m mrecords\n",
      "File \u001b[0;32m~/projects/frame-auto/.venv/lib/python3.10/site-packages/pandas/core/internals/construction.py:503\u001b[0m, in \u001b[0;36mdict_to_mgr\u001b[0;34m(data, index, columns, dtype, typ, copy)\u001b[0m\n\u001b[1;32m    499\u001b[0m     \u001b[38;5;28;01melse\u001b[39;00m:\n\u001b[1;32m    500\u001b[0m         \u001b[38;5;66;03m# dtype check to exclude e.g. range objects, scalars\u001b[39;00m\n\u001b[1;32m    501\u001b[0m         arrays \u001b[38;5;241m=\u001b[39m [x\u001b[38;5;241m.\u001b[39mcopy() \u001b[38;5;28;01mif\u001b[39;00m \u001b[38;5;28mhasattr\u001b[39m(x, \u001b[38;5;124m\"\u001b[39m\u001b[38;5;124mdtype\u001b[39m\u001b[38;5;124m\"\u001b[39m) \u001b[38;5;28;01melse\u001b[39;00m x \u001b[38;5;28;01mfor\u001b[39;00m x \u001b[38;5;129;01min\u001b[39;00m arrays]\n\u001b[0;32m--> 503\u001b[0m \u001b[38;5;28;01mreturn\u001b[39;00m \u001b[43marrays_to_mgr\u001b[49m\u001b[43m(\u001b[49m\u001b[43marrays\u001b[49m\u001b[43m,\u001b[49m\u001b[43m \u001b[49m\u001b[43mcolumns\u001b[49m\u001b[43m,\u001b[49m\u001b[43m \u001b[49m\u001b[43mindex\u001b[49m\u001b[43m,\u001b[49m\u001b[43m \u001b[49m\u001b[43mdtype\u001b[49m\u001b[38;5;241;43m=\u001b[39;49m\u001b[43mdtype\u001b[49m\u001b[43m,\u001b[49m\u001b[43m \u001b[49m\u001b[43mtyp\u001b[49m\u001b[38;5;241;43m=\u001b[39;49m\u001b[43mtyp\u001b[49m\u001b[43m,\u001b[49m\u001b[43m \u001b[49m\u001b[43mconsolidate\u001b[49m\u001b[38;5;241;43m=\u001b[39;49m\u001b[43mcopy\u001b[49m\u001b[43m)\u001b[49m\n",
      "File \u001b[0;32m~/projects/frame-auto/.venv/lib/python3.10/site-packages/pandas/core/internals/construction.py:114\u001b[0m, in \u001b[0;36marrays_to_mgr\u001b[0;34m(arrays, columns, index, dtype, verify_integrity, typ, consolidate)\u001b[0m\n\u001b[1;32m    111\u001b[0m \u001b[38;5;28;01mif\u001b[39;00m verify_integrity:\n\u001b[1;32m    112\u001b[0m     \u001b[38;5;66;03m# figure out the index, if necessary\u001b[39;00m\n\u001b[1;32m    113\u001b[0m     \u001b[38;5;28;01mif\u001b[39;00m index \u001b[38;5;129;01mis\u001b[39;00m \u001b[38;5;28;01mNone\u001b[39;00m:\n\u001b[0;32m--> 114\u001b[0m         index \u001b[38;5;241m=\u001b[39m \u001b[43m_extract_index\u001b[49m\u001b[43m(\u001b[49m\u001b[43marrays\u001b[49m\u001b[43m)\u001b[49m\n\u001b[1;32m    115\u001b[0m     \u001b[38;5;28;01melse\u001b[39;00m:\n\u001b[1;32m    116\u001b[0m         index \u001b[38;5;241m=\u001b[39m ensure_index(index)\n",
      "File \u001b[0;32m~/projects/frame-auto/.venv/lib/python3.10/site-packages/pandas/core/internals/construction.py:667\u001b[0m, in \u001b[0;36m_extract_index\u001b[0;34m(data)\u001b[0m\n\u001b[1;32m    664\u001b[0m         \u001b[38;5;28;01mraise\u001b[39;00m \u001b[38;5;167;01mValueError\u001b[39;00m(\u001b[38;5;124m\"\u001b[39m\u001b[38;5;124mPer-column arrays must each be 1-dimensional\u001b[39m\u001b[38;5;124m\"\u001b[39m)\n\u001b[1;32m    666\u001b[0m \u001b[38;5;28;01mif\u001b[39;00m \u001b[38;5;129;01mnot\u001b[39;00m indexes \u001b[38;5;129;01mand\u001b[39;00m \u001b[38;5;129;01mnot\u001b[39;00m raw_lengths:\n\u001b[0;32m--> 667\u001b[0m     \u001b[38;5;28;01mraise\u001b[39;00m \u001b[38;5;167;01mValueError\u001b[39;00m(\u001b[38;5;124m\"\u001b[39m\u001b[38;5;124mIf using all scalar values, you must pass an index\u001b[39m\u001b[38;5;124m\"\u001b[39m)\n\u001b[1;32m    669\u001b[0m \u001b[38;5;28;01mif\u001b[39;00m have_series:\n\u001b[1;32m    670\u001b[0m     index \u001b[38;5;241m=\u001b[39m union_indexes(indexes)\n",
      "\u001b[0;31mValueError\u001b[0m: If using all scalar values, you must pass an index"
     ]
    }
   ],
   "source": [
    "import pandas as pd\n",
    "\n",
    "df = pd.DataFrame({'name': data})\n",
    "groups = []\n",
    "\n",
    "while not df.empty:\n",
    "    n = len(df)\n",
    "    for size in range(8, 0, -1):\n",
    "        if n % size == 0 or n >= size:\n",
    "            group = df.iloc[:size]['name'].tolist()\n",
    "            groups.append(group)\n",
    "            df = df.iloc[size:].reset_index(drop=True)\n",
    "            break\n",
    "\n",
    "for group in groups:\n",
    "    print(group)\n",
    "    print(len(group))\n",
    "    print(\"\\n\")\n"
   ]
  },
  {
   "cell_type": "code",
   "execution_count": 130,
   "id": "1d7dd220",
   "metadata": {},
   "outputs": [
    {
     "name": "stdout",
     "output_type": "stream",
     "text": [
      "8\n"
     ]
    }
   ],
   "source": [
    "counter = 0\n",
    "answer = 0\n",
    "while counter < 8:\n",
    "    answer = counter + 1\n",
    "    counter = counter + 1\n",
    "print(answer)"
   ]
  },
  {
   "cell_type": "markdown",
   "id": "4dd44bf8",
   "metadata": {},
   "source": [
    "If i have a column of names with 15 elements how can I make an array wherein\n",
    "if the data is divisible by 8, takes those 8 and append to arr \n",
    "if the data is is not divisible by higher number then subtract 1 and if divisble take those and put in the arr \n"
   ]
  },
  {
   "cell_type": "code",
   "execution_count": null,
   "id": "52d94720",
   "metadata": {},
   "outputs": [],
   "source": [
    "coord_arr_8 = [[80,300],[530,300],[980,300],[1430,300],[300,700],[750,700],[1200,700],[1650,700]]\n",
    "coord_arr_7 = [[160,300],[610,300],[1060,300],[1510,300],[700],[700],[700]]\n",
    "coord_arr_6 = [[],[],[],[],[],[]]\n",
    "coord_arr_5 = [[204, 300], [839, 300], [1474, 300], [536, 700], [1165,700]]\n",
    "coord_arr_4 = [[],[],[],[]]\n",
    "coord_arr_3 = [[],[],[]]\n",
    "coord_arr_2 = [[],[]]\n",
    "coord_arr_1 = [[]]"
   ]
  }
 ],
 "metadata": {
  "kernelspec": {
   "display_name": ".venv",
   "language": "python",
   "name": "python3"
  },
  "language_info": {
   "codemirror_mode": {
    "name": "ipython",
    "version": 3
   },
   "file_extension": ".py",
   "mimetype": "text/x-python",
   "name": "python",
   "nbconvert_exporter": "python",
   "pygments_lexer": "ipython3",
   "version": "3.10.12"
  }
 },
 "nbformat": 4,
 "nbformat_minor": 5
}
