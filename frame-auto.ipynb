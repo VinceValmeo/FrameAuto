{
 "cells": [
  {
   "cell_type": "code",
   "execution_count": 97,
   "id": "ba9c4950",
   "metadata": {},
   "outputs": [
    {
     "name": "stdout",
     "output_type": "stream",
     "text": [
      "Requirement already satisfied: pandas in ./.venv/lib/python3.10/site-packages (2.2.3)\n",
      "Requirement already satisfied: openpyxl in ./.venv/lib/python3.10/site-packages (3.1.5)\n",
      "Requirement already satisfied: pillow in ./.venv/lib/python3.10/site-packages (11.2.1)\n",
      "Requirement already satisfied: numpy in ./.venv/lib/python3.10/site-packages (2.2.5)\n",
      "Requirement already satisfied: python-dateutil>=2.8.2 in ./.venv/lib/python3.10/site-packages (from pandas) (2.9.0.post0)\n",
      "Requirement already satisfied: pytz>=2020.1 in ./.venv/lib/python3.10/site-packages (from pandas) (2025.2)\n",
      "Requirement already satisfied: tzdata>=2022.7 in ./.venv/lib/python3.10/site-packages (from pandas) (2025.2)\n",
      "Requirement already satisfied: et-xmlfile in ./.venv/lib/python3.10/site-packages (from openpyxl) (2.0.0)\n",
      "Requirement already satisfied: six>=1.5 in ./.venv/lib/python3.10/site-packages (from python-dateutil>=2.8.2->pandas) (1.17.0)\n",
      "Note: you may need to restart the kernel to use updated packages.\n"
     ]
    }
   ],
   "source": [
    "pip install pandas openpyxl pillow numpy"
   ]
  },
  {
   "cell_type": "code",
   "execution_count": 64,
   "id": "025f686e",
   "metadata": {},
   "outputs": [],
   "source": [
    "import pandas as pd\n",
    "import openpyxl\n",
    "from PIL import Image\n",
    "from PIL import Image, ImageDraw, ImageChops, ImageFont\n",
    "import os"
   ]
  },
  {
   "cell_type": "code",
   "execution_count": 65,
   "id": "64b0a698",
   "metadata": {},
   "outputs": [
    {
     "data": {
      "text/html": [
       "<div>\n",
       "<style scoped>\n",
       "    .dataframe tbody tr th:only-of-type {\n",
       "        vertical-align: middle;\n",
       "    }\n",
       "\n",
       "    .dataframe tbody tr th {\n",
       "        vertical-align: top;\n",
       "    }\n",
       "\n",
       "    .dataframe thead th {\n",
       "        text-align: right;\n",
       "    }\n",
       "</style>\n",
       "<table border=\"1\" class=\"dataframe\">\n",
       "  <thead>\n",
       "    <tr style=\"text-align: right;\">\n",
       "      <th></th>\n",
       "      <th>jan_fullname</th>\n",
       "      <th>jan_shortname</th>\n",
       "      <th>jan_id_file</th>\n",
       "    </tr>\n",
       "  </thead>\n",
       "  <tbody>\n",
       "    <tr>\n",
       "      <th>0</th>\n",
       "      <td>Mathew Sullivan</td>\n",
       "      <td>Mat Sullivan</td>\n",
       "      <td>m.sullivan</td>\n",
       "    </tr>\n",
       "    <tr>\n",
       "      <th>1</th>\n",
       "      <td>Carter Guerrero</td>\n",
       "      <td>Cart Guerrero</td>\n",
       "      <td>c.guerrero</td>\n",
       "    </tr>\n",
       "    <tr>\n",
       "      <th>2</th>\n",
       "      <td>Marley Dale</td>\n",
       "      <td>Marl Dale</td>\n",
       "      <td>m.dale</td>\n",
       "    </tr>\n",
       "    <tr>\n",
       "      <th>3</th>\n",
       "      <td>Harold Griffith</td>\n",
       "      <td>Harry Griffith</td>\n",
       "      <td>h.griffith</td>\n",
       "    </tr>\n",
       "    <tr>\n",
       "      <th>4</th>\n",
       "      <td>Alysha Davidson</td>\n",
       "      <td>Aly Davidson</td>\n",
       "      <td>a.davidson</td>\n",
       "    </tr>\n",
       "  </tbody>\n",
       "</table>\n",
       "</div>"
      ],
      "text/plain": [
       "      jan_fullname   jan_shortname jan_id_file\n",
       "0  Mathew Sullivan    Mat Sullivan  m.sullivan\n",
       "1  Carter Guerrero   Cart Guerrero  c.guerrero\n",
       "2      Marley Dale       Marl Dale      m.dale\n",
       "3  Harold Griffith  Harry Griffith  h.griffith\n",
       "4  Alysha Davidson    Aly Davidson  a.davidson"
      ]
     },
     "execution_count": 65,
     "metadata": {},
     "output_type": "execute_result"
    }
   ],
   "source": [
    "category = \"Birthdays\"\n",
    "department = \"ABC\"\n",
    "\n",
    "df = pd.read_excel(\"data/Format Frame Auto.xlsx\", sheet_name=category)\n",
    "df"
   ]
  },
  {
   "cell_type": "code",
   "execution_count": 39,
   "id": "675c191f",
   "metadata": {},
   "outputs": [],
   "source": [
    "feb_names = df.jan_shortname"
   ]
  },
  {
   "cell_type": "code",
   "execution_count": 68,
   "id": "df3aa550",
   "metadata": {},
   "outputs": [],
   "source": [
    "def make_circular(image_path):\n",
    "    img = Image.open(image_path).convert(\"RGBA\")\n",
    "    width, height = img.size\n",
    "    \n",
    "    mask = Image.new('L', (width, height), 0)\n",
    "    draw = ImageDraw.Draw(mask)\n",
    "    draw.ellipse((0, 0, width, height), fill=255)\n",
    "    \n",
    "    img.putalpha(mask)\n",
    "    return img\n",
    "\n",
    "coord_arr_5 = [[204, 315], [839, 315], [1474, 315], [536, 681], [1165,682]]\n",
    "\n",
    "# Load background\n",
    "canvas = Image.open(\"backgrounds/bg1.png\").convert(\"RGBA\")\n",
    "\n",
    "# Process person image\n",
    "circular_image = make_circular(\"images/person-holder.jpg\")\n",
    "resize_image = 240\n",
    "resized_image = circular_image.resize((resize_image, resize_image), Image.LANCZOS)\n",
    "\n",
    "\n",
    "# Main process of \n",
    "counter = 0\n",
    "while counter < len(coord_arr_5):\n",
    "    x = coord_arr_5[counter][0]\n",
    "    y = coord_arr_5[counter][1]\n",
    "    canvas.paste(resized_image, (x , y), resized_image)\n",
    "\n",
    "\n",
    "    draw = ImageDraw.Draw(canvas)\n",
    "\n",
    "    # Font \n",
    "    font = ImageFont.truetype(\"DejaVuSansMono.ttf\", size=25)\n",
    "\n",
    "    # Specify the text and its position\n",
    "    text = feb_names[counter]\n",
    "    y_text_offset = 300\n",
    "    x_text_offset = 120\n",
    "    text_position = (x + x_text_offset, y + y_text_offset)\n",
    "\n",
    "    # Choose text color\n",
    "    text_color = (0, 0, 0)\n",
    "\n",
    "    draw.text(text_position, text, fill=text_color, font=font, anchor=\"mm\")\n",
    "\n",
    "    counter = counter + 1\n",
    "\n",
    "# canvas.save(\"[{department}]-{category}-{counter}\", \"JPEG\")\n",
    "output_name = f\"{department}-{category}-{counter}.jpeg\"\n",
    "\n",
    "# Convert to RGB to save as JPEG\n",
    "canvas = canvas.convert(\"RGB\")\n",
    "\n",
    "# Save to folder\n",
    "os.makedirs(\"output\", exist_ok=True)\n",
    "canvas.save(os.path.join(\"output\", output_name))\n"
   ]
  },
  {
   "cell_type": "markdown",
   "id": "89d94137",
   "metadata": {},
   "source": [
    "TODO: \n",
    "- calculate image and text offset to make the anchor point be the middle\n",
    "- read the name and image path from the excel file \n",
    "- use the appropriate canvas when of number of people "
   ]
  },
  {
   "cell_type": "markdown",
   "id": "7916df3e",
   "metadata": {},
   "source": [
    "TODO: \n",
    "- manipulate the excel file  \n",
    "- combine old data with the past data "
   ]
  },
  {
   "cell_type": "markdown",
   "id": "795449b7",
   "metadata": {},
   "source": [
    "TODO: \n",
    "- Make this into a video, save it and get the duration \n",
    "- Set this duration in the software upload and observe how it will play"
   ]
  },
  {
   "cell_type": "markdown",
   "id": "9b2d91d2",
   "metadata": {},
   "source": [
    "TODO:\n",
    "- create folder for image and file in the downloads folder for easy access \n",
    "- detect if the file is an image or excel file \n",
    "- move them in their respective folders inside the project "
   ]
  },
  {
   "cell_type": "code",
   "execution_count": null,
   "id": "be0735a0",
   "metadata": {},
   "outputs": [],
   "source": []
  },
  {
   "cell_type": "code",
   "execution_count": 69,
   "id": "746d6e51",
   "metadata": {},
   "outputs": [
    {
     "data": {
      "text/html": [
       "<div>\n",
       "<style scoped>\n",
       "    .dataframe tbody tr th:only-of-type {\n",
       "        vertical-align: middle;\n",
       "    }\n",
       "\n",
       "    .dataframe tbody tr th {\n",
       "        vertical-align: top;\n",
       "    }\n",
       "\n",
       "    .dataframe thead th {\n",
       "        text-align: right;\n",
       "    }\n",
       "</style>\n",
       "<table border=\"1\" class=\"dataframe\">\n",
       "  <thead>\n",
       "    <tr style=\"text-align: right;\">\n",
       "      <th></th>\n",
       "      <th>jan_fullname</th>\n",
       "      <th>jan_shortname</th>\n",
       "      <th>jan_id_file</th>\n",
       "    </tr>\n",
       "  </thead>\n",
       "  <tbody>\n",
       "    <tr>\n",
       "      <th>0</th>\n",
       "      <td>Mathew Sullivan</td>\n",
       "      <td>Mat Sullivan</td>\n",
       "      <td>m.sullivan</td>\n",
       "    </tr>\n",
       "    <tr>\n",
       "      <th>1</th>\n",
       "      <td>Carter Guerrero</td>\n",
       "      <td>Cart Guerrero</td>\n",
       "      <td>c.guerrero</td>\n",
       "    </tr>\n",
       "    <tr>\n",
       "      <th>2</th>\n",
       "      <td>Marley Dale</td>\n",
       "      <td>Marl Dale</td>\n",
       "      <td>m.dale</td>\n",
       "    </tr>\n",
       "    <tr>\n",
       "      <th>3</th>\n",
       "      <td>Harold Griffith</td>\n",
       "      <td>Harry Griffith</td>\n",
       "      <td>h.griffith</td>\n",
       "    </tr>\n",
       "    <tr>\n",
       "      <th>4</th>\n",
       "      <td>Alysha Davidson</td>\n",
       "      <td>Aly Davidson</td>\n",
       "      <td>a.davidson</td>\n",
       "    </tr>\n",
       "  </tbody>\n",
       "</table>\n",
       "</div>"
      ],
      "text/plain": [
       "      jan_fullname   jan_shortname jan_id_file\n",
       "0  Mathew Sullivan    Mat Sullivan  m.sullivan\n",
       "1  Carter Guerrero   Cart Guerrero  c.guerrero\n",
       "2      Marley Dale       Marl Dale      m.dale\n",
       "3  Harold Griffith  Harry Griffith  h.griffith\n",
       "4  Alysha Davidson    Aly Davidson  a.davidson"
      ]
     },
     "execution_count": 69,
     "metadata": {},
     "output_type": "execute_result"
    }
   ],
   "source": [
    "category = \"Birthdays\"\n",
    "department = \"ABC\"\n",
    "\n",
    "df = pd.read_excel(\"data/Format Frame Auto.xlsx\", sheet_name=category)\n",
    "df"
   ]
  },
  {
   "cell_type": "markdown",
   "id": "aa81fc15",
   "metadata": {},
   "source": [
    "### Basic ID generator"
   ]
  },
  {
   "cell_type": "code",
   "execution_count": 96,
   "id": "69d4566d",
   "metadata": {},
   "outputs": [
    {
     "name": "stdout",
     "output_type": "stream",
     "text": [
      "m.hernandez\n",
      " m.melendez\n",
      "   s.suarez\n",
      "    b.wlcox\n",
      "l.jefferson\n",
      "    e.hardy\n",
      "  j.roborts\n",
      "       e.ho\n",
      "     d.dunn\n"
     ]
    }
   ],
   "source": [
    "names = [\n",
    "\"Mir Hernandez\",\n",
    "\"Mett Melendez\",\n",
    "\"Sors Suarez\",\n",
    "\"Bil Wlcox\",\n",
    "\"Lu Jefferson\",\n",
    "\"Emman Hardy\",\n",
    "\"Jac Roborts\",\n",
    "\"Eby Ho\",\n",
    "\"Dev Dunn\"\n",
    "]\n",
    "sep = [name.lower().split() for name in names]\n",
    "first = [item[0][0] for item in sep]\n",
    "\n",
    "sep1 = [name.lower().split() for name in names]\n",
    "last = [item[1] for item in sep1]\n",
    "\n",
    "\n",
    "df = pd.DataFrame({'first_name': first, 'last_name': last, \"id\":f\"{first}.{last}\"})\n",
    "df['combined'] = df['first_name'] + \".\" + df['last_name']\n",
    "print(df['combined'].to_string(index=False))"
   ]
  },
  {
   "cell_type": "markdown",
   "id": "948599dd",
   "metadata": {},
   "source": [
    "### Creating Buckets of data"
   ]
  },
  {
   "cell_type": "code",
   "execution_count": 100,
   "id": "4a30b24e",
   "metadata": {},
   "outputs": [
    {
     "name": "stdout",
     "output_type": "stream",
     "text": [
      " values value_bins_cut value_bins_qcut\n",
      "     28          26-50              Q1\n",
      "     19           0-25              Q1\n",
      "     25           0-25              Q1\n",
      "     14           0-25              Q1\n",
      "     33          26-50              Q1\n",
      "     46          26-50              Q2\n",
      "     37          26-50              Q2\n",
      "     42          26-50              Q2\n",
      "     34          26-50              Q2\n",
      "     40          26-50              Q2\n",
      "     65          51-75              Q3\n",
      "     49          26-50              Q3\n",
      "     63          51-75              Q3\n",
      "     49          26-50              Q3\n",
      "     69          51-75              Q3\n",
      "     74          51-75              Q4\n",
      "     91         76-100              Q4\n",
      "     70          51-75              Q4\n",
      "     88         76-100              Q4\n",
      "     75          51-75              Q4\n"
     ]
    }
   ],
   "source": [
    "import pandas as pd\n",
    "import numpy as np\n",
    "\n",
    "# Create a sample DataFrame\n",
    "data = {'values': np.random.randint(0, 100, 20)}\n",
    "df = pd.DataFrame(data)\n",
    "\n",
    "# Using pandas.cut()\n",
    "bins = [0, 25, 50, 75, 100]\n",
    "labels = ['0-25', '26-50', '51-75', '76-100']\n",
    "df['value_bins_cut'] = pd.cut(df['values'], bins=bins, labels=labels, right=True)\n",
    "\n",
    "# Using pandas.qcut()\n",
    "df['value_bins_qcut'] = pd.qcut(df['values'], q=4, labels=['Q1', 'Q2', 'Q3', 'Q4'])\n",
    "\n",
    "print(df.sort_values(by=\"value_bins_qcut\").to_string(index=False))"
   ]
  },
  {
   "cell_type": "code",
   "execution_count": null,
   "id": "bd6b9c7c",
   "metadata": {},
   "outputs": [],
   "source": []
  },
  {
   "cell_type": "code",
   "execution_count": null,
   "id": "695c1c68",
   "metadata": {},
   "outputs": [],
   "source": []
  },
  {
   "cell_type": "markdown",
   "id": "fc01d661",
   "metadata": {},
   "source": [
    "### Creating groups"
   ]
  },
  {
   "cell_type": "code",
   "execution_count": 103,
   "id": "cc40b048",
   "metadata": {},
   "outputs": [
    {
     "data": {
      "text/plain": [
       "0       Mat Sullivan\n",
       "1      Cart Guerrero\n",
       "2          Marl Dale\n",
       "3     Harry Griffith\n",
       "4       Aly Davidson\n",
       "5       Gerald Quinn\n",
       "6      Mir Hernandez\n",
       "7      Mett Melendez\n",
       "8        Sors Suarez\n",
       "9          Bil Wlcox\n",
       "10      Lu Jefferson\n",
       "11       Emman Hardy\n",
       "12       Jac Roborts\n",
       "13            Eby Ho\n",
       "14          Dev Dunn\n",
       "Name: jan_shortname, dtype: object"
      ]
     },
     "execution_count": 103,
     "metadata": {},
     "output_type": "execute_result"
    }
   ],
   "source": [
    "category = \"Birthdays\"\n",
    "department = \"ABC\"\n",
    "\n",
    "df = pd.read_excel(\"data/More Frame Auto.xlsx\", sheet_name=category)\n",
    "data = df[\"jan_shortname\"]\n",
    "data"
   ]
  },
  {
   "cell_type": "code",
   "execution_count": 111,
   "id": "bdbd72b9",
   "metadata": {},
   "outputs": [
    {
     "name": "stdout",
     "output_type": "stream",
     "text": [
      "15\n",
      "7\n",
      "0      Mat Sullivan\n",
      "1     Cart Guerrero\n",
      "2         Marl Dale\n",
      "3    Harry Griffith\n",
      "4      Aly Davidson\n",
      "5      Gerald Quinn\n",
      "6     Mir Hernandez\n",
      "7     Mett Melendez\n",
      "Name: jan_shortname, dtype: object\n",
      "----\n",
      "8      Sors Suarez\n",
      "9        Bil Wlcox\n",
      "10    Lu Jefferson\n",
      "11     Emman Hardy\n",
      "12     Jac Roborts\n",
      "13          Eby Ho\n",
      "14        Dev Dunn\n",
      "Name: jan_shortname, dtype: object\n"
     ]
    }
   ],
   "source": [
    "data_count = len(data)\n",
    "print(data_count)\n",
    "print(data_count - 8)\n",
    "print(data[0:8])\n",
    "print(\"----\")\n",
    "print(data[8:])"
   ]
  },
  {
   "cell_type": "code",
   "execution_count": 127,
   "id": "2ef5aabc",
   "metadata": {},
   "outputs": [
    {
     "name": "stdout",
     "output_type": "stream",
     "text": [
      "['Mat Sullivan', 'Cart Guerrero', 'Marl Dale', 'Harry Griffith', 'Aly Davidson', 'Gerald Quinn', 'Mir Hernandez', 'Mett Melendez']\n",
      "8\n",
      "\n",
      "\n",
      "['Sors Suarez', 'Bil Wlcox', 'Lu Jefferson', 'Emman Hardy', 'Jac Roborts', 'Eby Ho', 'Dev Dunn']\n",
      "7\n",
      "\n",
      "\n"
     ]
    }
   ],
   "source": [
    "import pandas as pd\n",
    "\n",
    "df = pd.DataFrame({'name': data})\n",
    "groups = []\n",
    "\n",
    "while not df.empty:\n",
    "    n = len(df)\n",
    "    for size in range(8, 0, -1):\n",
    "        if n % size == 0 or n >= size:\n",
    "            group = df.iloc[:size]['name'].tolist()\n",
    "            groups.append(group)\n",
    "            df = df.iloc[size:].reset_index(drop=True)\n",
    "            break\n",
    "\n",
    "for group in groups:\n",
    "    print(group)\n",
    "    print(len(group))\n",
    "    print(\"\\n\")\n"
   ]
  },
  {
   "cell_type": "code",
   "execution_count": 130,
   "id": "1d7dd220",
   "metadata": {},
   "outputs": [
    {
     "name": "stdout",
     "output_type": "stream",
     "text": [
      "8\n"
     ]
    }
   ],
   "source": [
    "counter = 0\n",
    "answer = 0\n",
    "while counter < 8:\n",
    "    answer = counter + 1\n",
    "    counter = counter + 1\n",
    "print(answer)"
   ]
  },
  {
   "cell_type": "code",
   "execution_count": null,
   "id": "8be2c9e7",
   "metadata": {},
   "outputs": [
    {
     "data": {
      "text/plain": [
       "15"
      ]
     },
     "execution_count": 114,
     "metadata": {},
     "output_type": "execute_result"
    }
   ],
   "source": [
    "while data_count != 0:\n",
    "    "
   ]
  },
  {
   "cell_type": "markdown",
   "id": "4dd44bf8",
   "metadata": {},
   "source": [
    "If i have a column of names with 15 elements how can I make an array wherein\n",
    "if the data is divisible by 8, takes those 8 and append to arr \n",
    "if the data is is not divisible by higher number then subtract 1 and if divisble take those and put in the arr \n"
   ]
  }
 ],
 "metadata": {
  "kernelspec": {
   "display_name": ".venv",
   "language": "python",
   "name": "python3"
  },
  "language_info": {
   "codemirror_mode": {
    "name": "ipython",
    "version": 3
   },
   "file_extension": ".py",
   "mimetype": "text/x-python",
   "name": "python",
   "nbconvert_exporter": "python",
   "pygments_lexer": "ipython3",
   "version": "3.10.12"
  }
 },
 "nbformat": 4,
 "nbformat_minor": 5
}
