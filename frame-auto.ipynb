{
 "cells": [
  {
   "cell_type": "markdown",
   "id": "4033bbcc",
   "metadata": {},
   "source": [
    "Setup"
   ]
  },
  {
   "cell_type": "code",
   "execution_count": null,
   "id": "ba9c4950",
   "metadata": {},
   "outputs": [],
   "source": [
    "pip install pandas openpyxl pillow numpy"
   ]
  },
  {
   "cell_type": "code",
   "execution_count": null,
   "id": "025f686e",
   "metadata": {},
   "outputs": [],
   "source": [
    "import pandas as pd\n",
    "import openpyxl\n",
    "from PIL import Image\n",
    "from PIL import Image, ImageDraw, ImageChops, ImageFont\n",
    "import os"
   ]
  },
  {
   "cell_type": "code",
   "execution_count": null,
   "id": "64b0a698",
   "metadata": {},
   "outputs": [],
   "source": [
    "sheet = \"2025\"\n",
    "\n",
    "df = pd.read_excel(\"data/Proto-2_Frame_Auto.xlsx\", sheet_name=sheet)\n",
    "df\n"
   ]
  },
  {
   "cell_type": "markdown",
   "id": "3aceb5f0",
   "metadata": {},
   "source": [
    "### Filter Values Birthdays, Anniversaries, etc."
   ]
  },
  {
   "cell_type": "code",
   "execution_count": null,
   "id": "e99521f2",
   "metadata": {},
   "outputs": [],
   "source": [
    "# change value of this variable\n",
    "month = \"May\"\n",
    "bday = df[(df[\"birthday\"] == month)]\n",
    "bday_fields = bday[[\"short_name\", \"k-id\"]]\n",
    "\n",
    "anniv = df[(df[\"anniversary\"] == month)]\n",
    "anniv_fields = anniv[[\"short_name\", \"k-id\"]]\n"
   ]
  },
  {
   "cell_type": "code",
   "execution_count": null,
   "id": "dae4dbcf",
   "metadata": {},
   "outputs": [],
   "source": [
    "bday_test = bday_fields.to_dict(orient='split', index=False)\n",
    "bday_data = bday_test['data']\n",
    "\n",
    "anniv_test = anniv_fields.to_dict(orient='split', index=False)\n",
    "anniv_data = anniv_test['data']"
   ]
  },
  {
   "cell_type": "markdown",
   "id": "fc01d661",
   "metadata": {},
   "source": [
    "### Creating groups (to modify)"
   ]
  },
  {
   "cell_type": "code",
   "execution_count": null,
   "id": "2f3d8455",
   "metadata": {},
   "outputs": [],
   "source": [
    "bday_groups = [] \n",
    "while bday_data:\n",
    "    n = len(bday_data)\n",
    "    for size in range(8, 0, -1):\n",
    "        if n % size == 0 or n >= size:\n",
    "            bday_groups.append(bday_data[:size])\n",
    "            bday_data = bday_data[size:]\n",
    "            break\n",
    "\n",
    "\n",
    "print(\"BIRTHDAY\")\n",
    "print(\"=\"*70)\n",
    "for i, group in enumerate(bday_groups, 1):\n",
    "    print(f\"Group {i} ({len(group)} members):\", group)\n",
    "\n",
    "\n",
    "\n",
    "\n",
    "anniv_groups = [] \n",
    "while anniv_data:\n",
    "    n = len(anniv_data)\n",
    "    for size in range(8, 0, -1):\n",
    "        if n % size == 0 or n >= size:\n",
    "            anniv_groups.append(anniv_data[:size])\n",
    "            anniv_data = anniv_data[size:]\n",
    "            break\n",
    "\n",
    "print()\n",
    "print(\"Anniversary\")\n",
    "print(\"=\"*70)\n",
    "for i, group in enumerate(anniv_groups, 1):\n",
    "    print(f\"Group {i} ({len(group)} members):\", group)\n",
    "\n"
   ]
  },
  {
   "cell_type": "markdown",
   "id": "20c23afc",
   "metadata": {},
   "source": [
    "### Image Coordinates"
   ]
  },
  {
   "cell_type": "code",
   "execution_count": null,
   "id": "52d94720",
   "metadata": {},
   "outputs": [],
   "source": [
    "single_y = 418\n",
    "top_y = 328\n",
    "bottom_y = 732\n",
    "\n",
    "coord_arr_8 = [(51, top_y),(500, top_y),(948, top_y),(1396, top_y),\n",
    "               (266, bottom_y),(714, bottom_y),(1163, bottom_y),(1611, bottom_y)]\n",
    "coord_arr_7 = [(91, top_y),(589, top_y),(1087, top_y),(1585, top_y),\n",
    "               (308, bottom_y),(838, bottom_y),(1367, bottom_y)]\n",
    "coord_arr_6 = [(203, top_y),(733, top_y),(1262, top_y),\n",
    "               (454, bottom_y),(983, bottom_y),(1513, bottom_y)]\n",
    "coord_arr_5 = [(203, top_y), (838, top_y), (1472, top_y), \n",
    "               (518, bottom_y), (1158, bottom_y)]\n",
    "coord_arr_4 = [(172, single_y),(616, single_y),(1060, single_y),(1504, single_y)]\n",
    "coord_arr_3 = [(268, single_y),(838, single_y),(1408, single_y)]\n",
    "coord_arr_2 = [(565, single_y),(1111, single_y)]\n",
    "coord_arr_1 = [(838, single_y)]"
   ]
  },
  {
   "cell_type": "markdown",
   "id": "8bd3e4cc",
   "metadata": {},
   "source": [
    "## Notes"
   ]
  },
  {
   "cell_type": "markdown",
   "id": "89d94137",
   "metadata": {},
   "source": [
    "TODO: \n",
    "- calculate image and text offset to make the anchor point be the middle\n",
    "- read the name and image path from the excel file \n",
    "- use the appropriate canvas when of number of people "
   ]
  },
  {
   "cell_type": "markdown",
   "id": "795449b7",
   "metadata": {},
   "source": [
    "TODO: \n",
    "- Make this into a video, save it and get the duration \n",
    "- Set this duration in the software upload and observe how it will play"
   ]
  },
  {
   "cell_type": "markdown",
   "id": "9b2d91d2",
   "metadata": {},
   "source": [
    "TODO:\n",
    "- create folder for image and file in the downloads folder for easy access \n",
    "- detect if the file is an image or excel file \n",
    "- move them in their respective folders inside the project "
   ]
  },
  {
   "cell_type": "markdown",
   "id": "fed32ccd",
   "metadata": {},
   "source": [
    "# Main Process"
   ]
  },
  {
   "cell_type": "code",
   "execution_count": null,
   "id": "c0ba764c",
   "metadata": {},
   "outputs": [],
   "source": [
    "from PIL import Image, ImageDraw, ImageFont\n",
    "import os\n",
    "\n",
    "# Values to change\n",
    "outer_fill_color = \"#ed6e38\"\n",
    "inner_fill_color = \"#ffcf00\"\n",
    "font = ImageFont.truetype(\"DejaVuSansMono.ttf\", size=25) # note: windows font starts with small letter\n",
    "department = \"IT\"\n",
    "category = \"bday\" # or bday\n",
    "data_group = bday_groups # or bday_groups\n",
    "\n",
    "# Coordinate mapping\n",
    "coord_map = {\n",
    "    8: coord_arr_8,\n",
    "    7: coord_arr_7,\n",
    "    6: coord_arr_6,\n",
    "    5: coord_arr_5,\n",
    "    4: coord_arr_4,\n",
    "    3: coord_arr_3,\n",
    "    2: coord_arr_2,\n",
    "    1: coord_arr_1,\n",
    "}\n",
    "\n",
    "IMAGE_SIZE = 245\n",
    "\n",
    "# Make an image circular with transparency\n",
    "def make_circular(image_path):\n",
    "    img = Image.open(image_path).convert(\"RGBA\")\n",
    "    width, height = img.size\n",
    "\n",
    "    mask = Image.new(\"L\", (width, height), 0)\n",
    "    draw = ImageDraw.Draw(mask)\n",
    "    draw.ellipse((0, 0, width, height), fill=255)\n",
    "    img.putalpha(mask)\n",
    "    return img\n",
    "\n",
    "def create_border(diamter, x0, y0):\n",
    "    x1, y1 = x0 + diamter, y0 + diamter\n",
    "    bounding_box = x0, y0, x1, y1 \n",
    "    return bounding_box\n",
    "\n",
    "def calculate_border(IMAGE_SIZE, image_x, image_y, size_difference, position_offset):\n",
    "    diameter = IMAGE_SIZE + size_difference\n",
    "    x_coord_diff = y_coord_diff = position_offset\n",
    "    x_offset = image_x - x_coord_diff\n",
    "    y_offset = image_y - y_coord_diff\n",
    "    return diameter, x_offset, y_offset\n",
    "\n",
    "\n",
    "# Create the final composite image\n",
    "def create_image(names, coords, usernames, department, category, counter, background_path):\n",
    "    canvas = Image.open(background_path).convert(\"RGBA\")\n",
    "    draw = ImageDraw.Draw(canvas)\n",
    "\n",
    "    for (image_x, image_y), username, name in zip(coords, usernames, names):\n",
    "        image_path = f\"images/{username}.jpg\"\n",
    "        try:\n",
    "            circular_image = make_circular(image_path)\n",
    "        except FileNotFoundError:\n",
    "            circular_image = make_circular(\"images/person-holder.jpg\")\n",
    "\n",
    "        # Setting values for inner and outer border size and coordinate\n",
    "        INNER_BORDER_SIZE_OFFSET = 29\n",
    "        INNER_BORDER_POSITION_OFFSET = 15\n",
    "        OUTER_BORDER_SIZE_OFFSET = 63\n",
    "        OUTER_BORDER_POSITION_OFFSET = 32\n",
    "        \n",
    "        inner_diameter, inner_x_offset, inner_y_offest = calculate_border(IMAGE_SIZE, image_x, image_y, \n",
    "                                                                          INNER_BORDER_SIZE_OFFSET, INNER_BORDER_POSITION_OFFSET)\n",
    "        outer_diameter, outer_x_offset, outer_y_offest = calculate_border(IMAGE_SIZE, image_x, image_y,\n",
    "                                                                          OUTER_BORDER_SIZE_OFFSET, OUTER_BORDER_POSITION_OFFSET)\n",
    "\n",
    "        #  Applying the values and drawing it to the canvas\n",
    "        outer_bounding_box = create_border(outer_diameter, outer_x_offset, outer_y_offest)\n",
    "        draw.ellipse(outer_bounding_box, fill=outer_fill_color)\n",
    "\n",
    "        inner_bounding_box = create_border(inner_diameter, inner_x_offset, inner_y_offest)\n",
    "        draw.ellipse(inner_bounding_box, fill=inner_fill_color)\n",
    "\n",
    "        resized_image = circular_image.resize((245, 245), Image.LANCZOS)\n",
    "        canvas.paste(resized_image, (image_x, image_y), resized_image)\n",
    "\n",
    "        # Configuring text values \n",
    "        TEXT_X_OFFSET = 120\n",
    "        TEXT_Y_OFFSET = 300\n",
    "        text_position = (image_x + TEXT_X_OFFSET, image_y + TEXT_Y_OFFSET)\n",
    "        draw.text(text_position, name, fill=(0, 0, 0), font=font, anchor=\"mm\")\n",
    "\n",
    "    # Saving File\n",
    "    output_name = f\"[{department}]-{category}-{counter}.jpeg\"\n",
    "    os.makedirs(\"output\", exist_ok=True)\n",
    "    canvas.convert(\"RGB\").save(os.path.join(f\"output\", output_name), \"JPEG\")\n",
    "\n",
    "\n",
    "# Runner loop\n",
    "counter = 0\n",
    "for group in data_group:\n",
    "    group_size = len(group)    \n",
    "    coords = coord_map.get(group_size)\n",
    "    background_path = f\"backgrounds/{category}.png\"\n",
    "    if coords and background_path:\n",
    "        usernames = [person[1].replace(\".\", \"-\") for person in group]\n",
    "        names = [person[0] for person in group]\n",
    "        create_image(names, coords, usernames, department, category, counter, background_path)\n",
    "        counter += 1\n",
    "    else:\n",
    "        print(f\"No coordinate layout or background found for group size {group_size}\")\n",
    "\n"
   ]
  },
  {
   "cell_type": "markdown",
   "id": "c84d5054",
   "metadata": {},
   "source": [
    "# Compute Frame Coordinates Function"
   ]
  },
  {
   "cell_type": "markdown",
   "id": "e911516b",
   "metadata": {},
   "source": [
    "TODO:\n",
    "- This only caters to the one category which is bday.\n",
    "- Create the other category as well"
   ]
  },
  {
   "cell_type": "code",
   "execution_count": null,
   "id": "eecaa05f",
   "metadata": {},
   "outputs": [],
   "source": []
  }
 ],
 "metadata": {
  "kernelspec": {
   "display_name": ".venv",
   "language": "python",
   "name": "python3"
  },
  "language_info": {
   "codemirror_mode": {
    "name": "ipython",
    "version": 3
   },
   "file_extension": ".py",
   "mimetype": "text/x-python",
   "name": "python",
   "nbconvert_exporter": "python",
   "pygments_lexer": "ipython3",
   "version": "3.10.12"
  }
 },
 "nbformat": 4,
 "nbformat_minor": 5
}
