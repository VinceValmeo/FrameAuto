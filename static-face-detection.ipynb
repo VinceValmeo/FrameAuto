{
 "cells": [
  {
   "cell_type": "markdown",
   "id": "1fab1235",
   "metadata": {},
   "source": [
    "## Static face detection"
   ]
  },
  {
   "cell_type": "code",
   "execution_count": null,
   "id": "59683b01",
   "metadata": {},
   "outputs": [],
   "source": [
    "import numpy as np\n",
    "import cv2\n",
    "from PIL import Image\n",
    "from IPython.display import display"
   ]
  },
  {
   "cell_type": "code",
   "execution_count": null,
   "id": "1eb09149",
   "metadata": {},
   "outputs": [],
   "source": [
    "#load the xml files for face, eye and mouth detection into the program\n",
    "face_cascade=cv2.CascadeClassifier('haarcascade_frontalface_default.xml')"
   ]
  },
  {
   "cell_type": "code",
   "execution_count": null,
   "id": "92b96e07",
   "metadata": {},
   "outputs": [],
   "source": [
    "def identify_face_plot(image_path):\n",
    "    image = cv2.imread(image_path)\n",
    "    gray_image = cv2.cvtColor(image, cv2.COLOR_BGR2GRAY)\n",
    "    faces = face_cascade.detectMultiScale(image, 1.4, 4)\n",
    "    return faces.tolist()[0]\n",
    "\n"
   ]
  },
  {
   "cell_type": "markdown",
   "id": "df210f0b",
   "metadata": {},
   "source": [
    "# Cropping"
   ]
  },
  {
   "cell_type": "code",
   "execution_count": null,
   "id": "3e7bf8ec",
   "metadata": {},
   "outputs": [],
   "source": [
    "def image_cropping(image_path):\n",
    "    img = Image.open(image_path)\n",
    "\n",
    "    coordinates = identify_face_plot(image_path)\n",
    "\n",
    "    offset = 50\n",
    "    left, top, right, bottom = coordinates\n",
    "    left =  86 - offset\n",
    "    top =  73 - offset\n",
    "    right = left + 132 + (offset * 2)\n",
    "    bottom = top + 132 + (offset * 2)\n",
    "\n",
    "    im1 = img.crop((left, top, right, bottom))\n",
    "    im1.show()\n",
    "\n"
   ]
  },
  {
   "cell_type": "code",
   "execution_count": null,
   "id": "fcc55bd4",
   "metadata": {},
   "outputs": [],
   "source": [
    "# First Image\n",
    "first = './images/face-detection/person.png'\n",
    "narrow = './images/face-detection/narrow.png'\n",
    "wide = './images/face-detection/wide.png'\n",
    "obscure = './images/face-detection/obscure.png'\n"
   ]
  },
  {
   "cell_type": "code",
   "execution_count": null,
   "id": "99678843",
   "metadata": {},
   "outputs": [],
   "source": [
    "image_cropping(first)"
   ]
  },
  {
   "cell_type": "code",
   "execution_count": null,
   "id": "ecf9e77a",
   "metadata": {},
   "outputs": [],
   "source": [
    "image_cropping(narrow)"
   ]
  },
  {
   "cell_type": "code",
   "execution_count": null,
   "id": "9db6fe48",
   "metadata": {},
   "outputs": [],
   "source": [
    "image_cropping(wide)"
   ]
  },
  {
   "cell_type": "code",
   "execution_count": null,
   "id": "3b751838",
   "metadata": {},
   "outputs": [],
   "source": [
    "image_cropping(obscure)"
   ]
  },
  {
   "cell_type": "code",
   "execution_count": null,
   "id": "4967832e",
   "metadata": {},
   "outputs": [],
   "source": [
    "#read the image for furthur editing\n",
    "image = cv2.imread(obscure)\n",
    "\n",
    "#convert the RBG image to gray scale image\n",
    "gray_image = cv2.cvtColor(image, cv2.COLOR_BGR2GRAY)\n",
    "\n",
    "#identify the face using haar-based classifiers\n",
    "faces = face_cascade.detectMultiScale(image, 1.4, 4)\n",
    "\n",
    "for(x, y, w, h) in faces:\n",
    "    cv2.rectangle(image, (x, y), (x+w, y+h), (0, 0, 255), 2)\n",
    "    roi_gray = gray_image[y:y+h, x:x+w]\n",
    "    roi_color = image[y:y+h, x:x+w]\n",
    "\n",
    "cv2.imwrite('output/face_detected-poster.png', image)"
   ]
  }
 ],
 "metadata": {
  "kernelspec": {
   "display_name": ".venv",
   "language": "python",
   "name": "python3"
  },
  "language_info": {
   "codemirror_mode": {
    "name": "ipython",
    "version": 3
   },
   "file_extension": ".py",
   "mimetype": "text/x-python",
   "name": "python",
   "nbconvert_exporter": "python",
   "pygments_lexer": "ipython3",
   "version": "3.10.12"
  }
 },
 "nbformat": 4,
 "nbformat_minor": 5
}
