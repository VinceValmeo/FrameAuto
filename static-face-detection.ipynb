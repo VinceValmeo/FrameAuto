{
 "cells": [
  {
   "cell_type": "markdown",
   "id": "1fab1235",
   "metadata": {},
   "source": [
    "## Static face detection"
   ]
  },
  {
   "cell_type": "markdown",
   "id": "59683b01",
   "metadata": {},
   "source": []
  }
 ],
 "metadata": {
  "language_info": {
   "name": "python"
  }
 },
 "nbformat": 4,
 "nbformat_minor": 5
}
